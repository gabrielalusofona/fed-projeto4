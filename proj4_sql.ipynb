{
 "cells": [
  {
   "cell_type": "markdown",
   "source": [
    "# Projeto 4 - SQL\n",
    "\n",
    "Objetivos\n",
    "* Explorar e extrair informação relevante da base de dados usando funções SQL\n",
    "* Realizar limpeza e transformação de dados usando funções de string e regex\n",
    "* Usar os dados limpos para análises mais detalhadas, com joins e funções de agregação"
   ],
   "metadata": {
    "collapsed": false
   }
  },
  {
   "cell_type": "markdown",
   "source": [
    "## Setup\n",
    "\n",
    "- Garanta que tenha todas a bibliotecas necessárias para desenvolvimento do projeto."
   ],
   "metadata": {
    "collapsed": false
   }
  },
  {
   "cell_type": "code",
   "execution_count": null,
   "metadata": {
    "collapsed": true
   },
   "outputs": [],
   "source": [
    "%reload sql"
   ]
  },
  {
   "cell_type": "markdown",
   "source": [
    "0. Explique a linha de código abaixo:"
   ],
   "metadata": {
    "collapsed": false
   }
  },
  {
   "cell_type": "code",
   "execution_count": null,
   "outputs": [],
   "source": [
    "!unzip -u data/imdbdb.zip -d data/"
   ],
   "metadata": {
    "collapsed": false
   }
  },
  {
   "cell_type": "markdown",
   "source": [
    "## Criação da base de dados sql\n",
    "\n",
    "* Nas aulas de sql criamos e povoamos a base de dados várias vezes. Aqui você precisa fazer o mesmo com a base de dados imdbdb.\n",
    "* Os comandos usados no bash do docker podem ser corridos dentro do notebook usando:\n",
    "```!psql postgres:user@server:port/db -c '[QUERY SQL]' ```"
   ],
   "metadata": {
    "collapsed": false
   }
  },
  {
   "cell_type": "markdown",
   "source": [
    "## Conexão com a base de dados\n",
    "\n",
    "Complete a célula abaixo para conectar com a base de dados criada anteriormente"
   ],
   "metadata": {
    "collapsed": false
   }
  },
  {
   "cell_type": "code",
   "execution_count": null,
   "outputs": [],
   "source": [
    "%sql postgres://"
   ],
   "metadata": {
    "collapsed": false
   }
  },
  {
   "cell_type": "markdown",
   "source": [
    "Para garantir que tudo está a funcionar corretamente, corra a query abaixo:"
   ],
   "metadata": {
    "collapsed": false
   }
  },
  {
   "cell_type": "code",
   "execution_count": null,
   "outputs": [],
   "source": [
    "%%sql\n",
    "SELECT *\n",
    "    FROM cast_sample\n",
    "LIMIT 10"
   ],
   "metadata": {
    "collapsed": false
   }
  },
  {
   "cell_type": "markdown",
   "source": [
    "O que a query acima faz?"
   ],
   "metadata": {
    "collapsed": false
   }
  },
  {
   "cell_type": "markdown",
   "source": [
    "## A base de dados `imdb`\n",
    "\n",
    "Para este projeto estamos trabalhando com uma versão reduzida da base de dados [IMDB (Internet Movie Database)](https://www.imdb.com/). Por ser uma versão reduzida, os resultados podem ser diferentes do esperado.\n",
    "\n",
    "Abaixo encontra a lista das relações da base de dados:\n",
    "* `actor_sample`: informação sobre atores, incluindo id, name e gender\n",
    "* `cast_sample`: cada pessoa na equipa de cada filme é representada por uma linha, incluindo o id do cast, o id de cada pessoa (`actor_sample.id`), o id de cada filme (`movie_sample.id`) e o id do role (`role_type.id`)\n",
    "* `movie_sample`: amostra de filmes que os atores estão presentes, incluindo o id, title e production year\n",
    "* `movie_info_sample`: inclui o id da informação do filme, movie id, info type id e a informação.\n",
    "* `info_type`: tabela de referência para equivalência de cada tipo e descrição de tipo da informação.\n",
    "* `role_type`: tabela de referência para `cast_sample` contendo a descrição do `role`\n",
    "\n",
    "** Dicas**\n",
    "* Este dataset não é o mesmo usado na aula, mas tem muitas informações em comum.\n",
    "* Ponto de confusão: as tabelas `movie_sample` e `actor_sample` têm uma coluna chamada `id`, mas elas **não** se referem ao mesmo valor de dados\n",
    "* Explore a base de dados para conhecê-la melhor."
   ],
   "metadata": {
    "collapsed": false
   }
  },
  {
   "cell_type": "markdown",
   "source": [
    "## Parte 1 - Information Schema\n",
    "\n",
    "Há tabelas de metadados que o Postgres cria e atualiza. Veja a [documentação](https://www.postgresql.org/docs/current/information-schema.html).\n",
    "Por agora, olhe para a tabela `.table` ([35.54](https://www.postgresql.org/docs/current/information-schema.html)), que lista todas as tabelas na base de dados. Escreva uma query que retorne todos os atributos das seis tabelas descritas acima.\n",
    "\n",
    "### Questão 1: Escreva uma query que retorne todos os atributos das seis tabelas descritas acima."
   ],
   "metadata": {
    "collapsed": false
   }
  },
  {
   "cell_type": "code",
   "execution_count": null,
   "outputs": [],
   "source": [
    "%%sql"
   ],
   "metadata": {
    "collapsed": false
   }
  },
  {
   "cell_type": "markdown",
   "source": [
    "## Parte 2 - EDA\n",
    "\n",
    "### Questão 2.a\n",
    "\n",
    "Quais são os atributos da tabela `movie_info_sample`?"
   ],
   "metadata": {
    "collapsed": false
   }
  },
  {
   "cell_type": "code",
   "execution_count": null,
   "outputs": [],
   "source": [
    "%%sql"
   ],
   "metadata": {
    "collapsed": false
   }
  },
  {
   "cell_type": "markdown",
   "source": [
    "###Questão 2.b\n",
    "Quantas linhas há na tabela `movie_info_sample`? O resultado da sua query deve ter exatamente uma linha e o valor deve ser o número de linhas."
   ],
   "metadata": {
    "collapsed": false
   }
  },
  {
   "cell_type": "code",
   "execution_count": null,
   "outputs": [],
   "source": [
    "%%sql result_2b"
   ],
   "metadata": {
    "collapsed": false
   }
  },
  {
   "cell_type": "markdown",
   "source": [
    "### Questão 2.c\n",
    "\n",
    "Agora que sabemos um pouco sobre os metadados da tabela, vamos buscar amostras aleatórias da tabela `movie_info_sample` para explorar o seu conteúdo.\n",
    "\n",
    "Sabendo que você já sabe o tamanho da tabela, **escreva uma query que retorne 5 tuplas usando o método `BERNOULLI`*. Ou seja, se nós corrermos a query várias vezes, nós devemos obter 5 tuplas em média da tabela resultante. O método `BERNOULLI` pesquisa a tabela inteira e seleciona linhas individualmente independentes com probabilidade `p%`. Leia a [documentação](https://www.postgresql.org/docs/15/sql-select.html) para informação sobre a sintaxe.\n",
    "\n",
    "**Dicas/Detalhes**\n",
    "\n",
    "* Atribua à variável `p_1c` para uma sampling rate que você passe para a `query_1c` usando uma f-string para substituir o valor. Sua fórmula deve conter `count_1b`. Não se esqueça de converter `p_1c` para unidades de porcentatem, ou seja, `p_1c = 0.03` é 0.03%.\n",
    "* Para entender como as fstrings funcionam, assim como a substituição de variáveis em fstrings, veja [este tutorial](https://www.geeksforgeeks.org/formatted-string-literals-f-strings-python/). Se a substituição da variável for feita corretamente, nós devemos ser capazes de substituir o nosso `p%` apenas alterando o `p_1c` e correndo novamente a query."
   ],
   "metadata": {
    "collapsed": false
   }
  },
  {
   "cell_type": "code",
   "execution_count": null,
   "outputs": [],
   "source": [
    "count_1b = result_2b_df.iloc[0, 0]\n",
    "p_1c = ..."
   ],
   "metadata": {
    "collapsed": false
   }
  },
  {
   "cell_type": "markdown",
   "source": [
    "### Questão 2.d Random sample, número fixo de linhas\n",
    "\n",
    "Se um número aleatório de linhas não é importante, uma maneira mais eficiente para obter tuplas arbitrárias de uma tabela é usar as cláusulas `ORDER BY` e `LIMIT`. Na próxima célula, obtenha 5 linhas **aleatórias** da tabela `movie_info_sample`. Comparando com o resultado anterior, o seu resultado deveria ter sempre 5 tuplas."
   ],
   "metadata": {
    "collapsed": false
   }
  },
  {
   "cell_type": "code",
   "execution_count": null,
   "outputs": [],
   "source": [
    "%sql result_2d"
   ],
   "metadata": {
    "collapsed": false
   }
  },
  {
   "cell_type": "markdown",
   "source": [
    "## Parte 3 - Limpeza dos Dados\n",
    "\n",
    "A tabela `movie_sample` contém pouca informação por filme:\n"
   ],
   "metadata": {
    "collapsed": false
   }
  },
  {
   "cell_type": "code",
   "execution_count": null,
   "outputs": [],
   "source": [
    "%sql SELECT * FROM movie_sample LIMIT 5;"
   ],
   "metadata": {
    "collapsed": false
   }
  },
  {
   "cell_type": "markdown",
   "source": [
    "Nesta questão nós vamos criar uma view de `movie_sample` que também inclua uma coluna com a avaliação dos filmes, chamada `movie_ratings`.\n",
    "\n",
    "O [MPAA rating](https://www.motionpictures.org/film-ratings/) é normalmente incluído na maioria das base de dados sobre filmes, incluindo o deste projeto, mas, no formato atual, é difícil extrair esta informação.\n",
    "\n",
    "A primeira dica para é olhar para as linhas aleatórias da Questão 1. Você já viu que a tabela `movie_info_sample` contem muita informação sobre cada filme. Cada linha contem um tipo particular de informação (por exemplo, `runtime`, `languages`) categirizados pelo `info_type_id`. Baseado nas outras tabelas desta base de dados, a tabela `info_type` é uma referência para este número de ID.\n",
    "\n",
    "Então a estratégia para esta questão é:\n",
    "* **Questão 2a**: encontrar o `mpaa_rating_id` da tabela `info_type`.\n",
    "* **Questão 2b**: extrair o MPAA de um filme específico da tabela `movie_info_sample`.\n",
    "* **Questão 2c**: Construir a view `movie_ratings` baseado na tabela `movie_sample`e todos os MPAA ratings extraídos da tabela `movie_info_sample`.\n"
   ],
   "metadata": {
    "collapsed": false
   }
  },
  {
   "cell_type": "markdown",
   "source": [
    "## Questão 3a: MPAA Rating e `info_type`\n",
    "\n",
    "Para começar, usando a tabela `info_type`, escreva uma query para encontrar o `id` que  corresponde ao MPAA rating do filme. A query `result_3a` que você escrever deve retornar a relação com exatamente uma linha e um atributo; o valor solitário da instância deve ser um MPAA rating e o id correspondente. Este valor deve ser armazenado na variável `mpaa_rating_id` para usar posteriormente.\n",
    "\n",
    "**Dicas:**\n",
    "- Abra o cliente `psql` no terminal para explorar o schema de `info_type` através do comando `\\d`. Lembre-se que você também pode escrever comandos SQL neste terminal para interagir com a base de dados IMDB, mas o trabalho final deve ser submetido neste Jupyter Notebook.\n",
    "- Cuidado ao usar plicas. O SQL interpreta plicas e aspas de maneira diferente. a plica `'` é reservada para delimitar strings, enquanto as aspas `\"`é usada para nomear tabelas ou colunas que precisam de caracteres especiais. Veja a [documentação](https://www.postgresql.org/docs/current/sql-syntax-lexical.html) para mais informação.\n"
   ],
   "metadata": {
    "collapsed": false
   }
  },
  {
   "cell_type": "code",
   "execution_count": null,
   "outputs": [],
   "source": [
    "%%sql"
   ],
   "metadata": {
    "collapsed": false
   }
  },
  {
   "cell_type": "markdown",
   "source": [
    "## Questão 3b: Buscando o MPAA Rating\n",
    "\n",
    "Suponha que nós quiséssemos encontrar o MPAA rating para o clássico de 2004 _Mean Girls_. O código abaixo atribui `movie_id_3b` para o IMDB id deste filme, 2109683.\n"
   ],
   "metadata": {
    "collapsed": false
   }
  },
  {
   "cell_type": "code",
   "execution_count": null,
   "outputs": [],
   "source": [
    "movie_id_2b = 2109683\n",
    "%sql SELECT * FROM movie_sample WHERE id = {{movie_id_2b}};"
   ],
   "metadata": {
    "collapsed": false
   }
  },
  {
   "cell_type": "markdown",
   "source": [
    "Na próxima célula, escreva uma query para encontrar o rating MPAA para este filme. Sua query deve retornar exatamente uma linha, com `(info, mpaa_rating)`, onde `info` é a string MPAA do `movie_info_sample` e `mpaa_rating` é a classificação etária deste filme (`PG-13`, `PG`, etc).\n",
    "\n",
    "Antes de começar:\n",
    "* Explore a tabela `movie_info_sample` correspondentes ao MPAA usando o DBeaver, o terminal ou executando SQL no notebook. O campo `info` é um pouco maior que apenas a classificação. Isto também inclui uma explicação para a classificação do filme.\n",
    "* Você precisa extrair uma substring tha coluna `info` da tabela `movie_info_sample`; você pode usar [funções de string](https://www.postgresql.org/docs/current/functions-string.html) no PostgreSQL. Existem várias soluções possíveis. Uma solução possívels é usar regex para fazer as substrings. Se você quiser fazer isso, [esta seção sobre regex](https://www.postgresql.org/docs/current/functions-matching.html#FUNCTIONS-POSIX-REGEXP) será particularmente útil. [regex101.com](https://regex101.com) também pode ser útil.\n",
    "* Você deve usar `mpaa_rating_id` e `movie_id_2b` diretamente para o resto das questões usando substituição por variável."
   ],
   "metadata": {
    "collapsed": false
   }
  },
  {
   "cell_type": "code",
   "execution_count": null,
   "outputs": [],
   "source": [
    "%%sql"
   ],
   "metadata": {
    "collapsed": false
   }
  },
  {
   "cell_type": "markdown",
   "source": [],
   "metadata": {
    "collapsed": false
   }
  },
  {
   "cell_type": "code",
   "execution_count": null,
   "outputs": [],
   "source": [],
   "metadata": {
    "collapsed": false
   }
  },
  {
   "cell_type": "markdown",
   "source": [
    "Você pode usar a variável `mpaa_rating_id` diretamente no resto das questões usando fstrings e substituição."
   ],
   "metadata": {
    "collapsed": false
   }
  },
  {
   "cell_type": "markdown",
   "source": [
    "---\n",
    "\n",
    "## Questão 3c\n",
    "\n",
    "Na próxima célula,\n",
    "1. Construa uma view chamada `movie_ratings` contendo uma linha por filme, cada uma com `(movie_id, title, info, mpaa_rating)`, onde `info` é a string completa com a classificação MPAA de `movie_info_sample` e `mpaa_rating` é apenas a classificação (por exemplo, `R`, `PG-13`, `PG`, etc.).\n",
    "* Em outras palavras, acrescentar a informação da tabela `movie_sample` com a classificação MPAA para todos os filmes.\n",
    "2. Seguindo a definição de view, escreva uma query `SELECT` para retornar as **primeiras 20 linhas** da view, ordenada crescentemente pelo `movie_id`.\n"
   ],
   "metadata": {
    "collapsed": false
   }
  },
  {
   "cell_type": "code",
   "execution_count": null,
   "outputs": [],
   "source": [
    "%%sql result_2c <<\n",
    "DROP VIEW IF EXISTS movie_ratings;\n",
    "CREATE VIEW movie_ratings AS (\n",
    ")"
   ],
   "metadata": {
    "collapsed": false
   }
  },
  {
   "cell_type": "markdown",
   "source": [
    "<br/><br/><br/>\n",
    "\n",
    "<hr style=\"border: 1px solid #fdb515;\" />\n",
    "\n",
    "# Questão 4: Faturamento\n",
    "\n",
    "Uma medida de sucesso do filme é o seu faturamento. Se nós olharmos para a tabela `info_table`, nós temos informação sobre o faturamento bruto de um filme e o custo. Seria importante saber quanto de dinheiro um filme faturou usando a fórmula de lucro (profit):\n",
    "\n",
    "$$profit = earnings - moneyspent$$\n",
    "\n",
    "Vamos começar olhando para a informação sobre o faturamento bruto, com `info_type_id = 107`"
   ],
   "metadata": {
    "collapsed": false
   }
  },
  {
   "cell_type": "code",
   "execution_count": null,
   "outputs": [],
   "source": [
    "%%sql\n",
    "SELECT *\n",
    "FROM movie_info_sample\n",
    "WHERE info_type_id = 107\n",
    "ORDER BY id\n",
    "LIMIT 10 OFFSET 100000;"
   ],
   "metadata": {
    "collapsed": false
   }
  },
  {
   "cell_type": "markdown",
   "source": [
    "Tem muitas coisas para observarmos aqui. A primeira de todas é que os valores no atributo `info` são strings e não apenas o faturamento, mas também o país e o mês de faturamento acumulado até então. Adicionalmente, os valores de info não estão na mesma moeda. Além disso, parece que um pouco do faturamento bruto, mesmo para aqueles em USD são de vendas ao redor do mundo, enquanto outros contam apenas as vendas nos Estados Unidos.\n",
    "\n",
    "Por consistência, vamos usar apenas filmes com faturamento bruto contado dentro dos Estados Unidos que estão em USD."
   ],
   "metadata": {
    "collapsed": false
   }
  },
  {
   "cell_type": "markdown",
   "source": [
    "<br><br>\n",
    "\n",
    "---\n",
    "\n",
    "## Questião 4a: Faturamento\n",
    "\n",
    "Nós queremos a parte numérica da coluna `info` e o **maximum earnings value** para um filme particular.\n",
    "\n",
    "Na célula seguinte:\n",
    "- Construir uma view chamada `movie_gross` contendo uma linha para cada filme, com os atributos `(gross, movie_id, title)`, onde `gross` é o valor numérico extraído como float. Some os valores nos casos em que um mesmo filme tenha mais de um `gross` value.\n",
    "- Para olhar para nossos dados limpos, escreva uma query `SELECT` para mostrar os primeiros resultados dos 10 filmes que mais faturaram, por `movie_gross`.\n",
    "\n",
    "**Dicas:**\n",
    "- A maneira de extrair o MPAA é muito similar com a maneira que queremos isolar o valor numérico da string. (Há várias maneiras de fazer isso.)\n",
    "- Olhe a [documentação](https://www.postgresql.org/docs/9.4/functions-matching.html) para a função `regexp_replace`, especificamente a 'flag g'."
   ],
   "metadata": {
    "collapsed": false
   }
  },
  {
   "cell_type": "code",
   "execution_count": null,
   "outputs": [],
   "source": [
    "%%sql result_4a <<\n",
    "\n",
    "DROP VIEW IF EXISTS movie_gross;\n",
    "CREATE VIEW movie_gross AS (\n",
    "-- coloque a sua query aqui\n",
    ")"
   ],
   "metadata": {
    "collapsed": false
   }
  },
  {
   "cell_type": "markdown",
   "source": [
    "<br/>\n",
    "\n",
    "---\n",
    "\n",
    "## Tutorial: Budget\n",
    "Nós vamos olhar agora para o tipo budget, com `info_type_id = 105`"
   ],
   "metadata": {
    "collapsed": false
   }
  },
  {
   "cell_type": "code",
   "execution_count": null,
   "outputs": [],
   "source": [
    "%%sql\n",
    "SELECT *\n",
    "FROM movie_info_sample\n",
    "WHERE info_type_id = 105\n",
    "ORDER BY id\n",
    "LIMIT 10 OFFSET 5000;"
   ],
   "metadata": {
    "collapsed": false
   }
  },
  {
   "cell_type": "markdown",
   "source": [
    "De maneira similar com o que foi feito para obter a informação do faturamento, nós observamos faturamento em diferentes moedas. Vamos usar apenas os filmes com budget em USD."
   ],
   "metadata": {
    "collapsed": false
   }
  },
  {
   "cell_type": "markdown",
   "source": [
    "## Questão 4b:\n",
    "\n",
    "Agora, nós queremos algo semelhante para o budget do filme, de maneira que seja possível fazer uma operação com `gross` e `budget`. Nós queremos a parte numérica da coluna `info` e o valor **maximum budget value** para um filme particular (como você pode observar, alguns filmes têm mais de um budget).\n",
    "\n",
    "Na próxima célula,\n",
    "- Construir uma view chamada `movie_budget` contendo uma linha para cada filme, com os atributos `(budget, movie_id, title)`, onde `budget` é a quantidade numérica em dollars extraído como float.\n",
    "- Para olhar os dados limpos, escreva uma query `SELECT` para mostrar **os 10 filmes com maior budget**. Quando dois filmes tiverem o mesmo budget, use o `movie_id` para ordenar (de maneira crescente).\n",
    "\n",
    "**Dica:** a query deve ser bem semelhante a da Questão 3a.\n",
    "\n",
    "**Dica:** explore os registos para ver se encontra algum padrão."
   ],
   "metadata": {
    "collapsed": false
   }
  },
  {
   "cell_type": "code",
   "execution_count": null,
   "outputs": [],
   "source": [
    "%%sql result_4b <<\n",
    "\n",
    "DROP VIEW IF EXISTS movie_budget;\n",
    "CREATE VIEW movie_budget AS (\n",
    "-- sua query aqui\n",
    ")"
   ],
   "metadata": {
    "collapsed": false
   }
  },
  {
   "cell_type": "markdown",
   "source": [
    "---\n",
    "\n",
    "## Questão 4c\n",
    "\n",
    "Nós temos todas as partes necessárias para calcular o lucro. Usando as views `movie_gross` e `movie_budget`, nós podemos subtrair as colunas numéricas e salvar o resultado em outra coluna chamada `profit`.\n",
    "\n",
    "Na próxima célula, construa uma view chamada `movie_profit` contendo uma linha para cada filme, que tem `(movie_id, title, profit)`, onde `profit` é o resultado da subtração do `budget` do `gross`. Seguindo a definição de view, escreva uma query `SELECT` para retornar as **primeiras 10 linhas** da view ordenada de maneira decrescente por `profit`. Esta query poderá ser mais lenta que o normal."
   ],
   "metadata": {
    "collapsed": false
   }
  },
  {
   "cell_type": "code",
   "execution_count": null,
   "outputs": [],
   "source": [
    "%%sql result_4c <<\n",
    "\n",
    "DROP VIEW IF EXISTS movie_profit;\n",
    "CREATE VIEW movie_profit AS (\n",
    "-- sua query aqui\n",
    ")"
   ],
   "metadata": {
    "collapsed": false
   }
  },
  {
   "cell_type": "markdown",
   "source": [
    "---\n",
    "\n",
    "## Questão 4d\n",
    "\n",
    "Nós analisamos os dados, mas algumas coisas parecem estranhas. Olhando de maneira mais atenta, vamos observar valores negativos para `profit`. Por exemplo, o filme `102 Dalmations` parece ter perdido cerca de $18M, mas foi um filme de sucesso. O que pode ter acontecido? Pense em como nós construímos os nossos dados e responda abaixo.\n",
    "\n"
   ],
   "metadata": {
    "collapsed": false
   }
  },
  {
   "cell_type": "markdown",
   "source": [
    "_Digite a sua resposta aqui._"
   ],
   "metadata": {
    "collapsed": false
   }
  },
  {
   "cell_type": "markdown",
   "source": [
    "Se tiver encontrado algum problema nos seus dados, refaça as views de maneira a corrigi-los."
   ],
   "metadata": {
    "collapsed": false
   }
  },
  {
   "cell_type": "code",
   "execution_count": null,
   "outputs": [],
   "source": [
    "%%sql\n",
    "DROP VIEW IF EXISTS movie_profit;\n",
    "DROP VIEW IF EXISTS movie_budget;\n",
    "DROP VIEW IF EXISTS movie_gross;\n"
   ],
   "metadata": {
    "collapsed": false
   }
  },
  {
   "cell_type": "code",
   "execution_count": null,
   "outputs": [],
   "source": [
    "%%sql result_4a <<\n",
    "\n",
    "DROP VIEW IF EXISTS movie_gross;\n",
    "CREATE VIEW movie_gross AS (\n",
    "-- sua query aqui\n",
    ")"
   ],
   "metadata": {
    "collapsed": false
   }
  },
  {
   "cell_type": "code",
   "execution_count": null,
   "outputs": [],
   "source": [
    "%%sql result_4b <<\n",
    "\n",
    "DROP VIEW IF EXISTS movie_budget;\n",
    "CREATE VIEW movie_budget AS (\n",
    "-- sua query aqui\n",
    ")"
   ],
   "metadata": {
    "collapsed": false
   }
  },
  {
   "cell_type": "code",
   "execution_count": null,
   "outputs": [],
   "source": [
    "%%sql result_4c <<\n",
    "\n",
    "DROP VIEW IF EXISTS movie_profit;\n",
    "CREATE VIEW movie_profit AS (\n",
    "-- sua query aqui\n",
    ")"
   ],
   "metadata": {
    "collapsed": false
   }
  },
  {
   "cell_type": "code",
   "execution_count": null,
   "outputs": [],
   "source": [
    "%%sql\n",
    "SELECT * FROM movie_profit\n",
    "WHERE movie_id = 1635380"
   ],
   "metadata": {
    "collapsed": false
   }
  },
  {
   "cell_type": "markdown",
   "source": [
    "<hr style=\"border: 1px solid #fdb515;\" />\n",
    "\n",
    "# Questão 5: Usando os dados limpos\n",
    "\n",
    "Agora que nós aprendemos como limpar nossos valores financeiros do atributo `info` de `movie_info_sample`, vamos olhar de maneira mais atenta para os dados gerados."
   ],
   "metadata": {
    "collapsed": false
   }
  },
  {
   "cell_type": "markdown",
   "source": [
    "---\n",
    "\n",
    "## Questão 5a: Faturamento por Género\n",
    "\n",
    "Outra `info_type` que nós podemos olhar é o genero do filme. Observando os valores de `movie_gross`, quanto cada *genre* faturou em média nos Estados Unidos?\n",
    "\n",
    "- Crie uma view com as colunas `movie_id`, `title`, `gross`, `genre`, e `average_genre` onde `gross` é o faturamento bruto nos estados unidos, `genre` é o género do filme, e `average_genre` é o faturamento médio para o género correspondente. Se um filme tiver mais de um género, o filme deve aparecer em múltiplas linhas, com cada género em uma linha.\n",
    "- Seguindo a definição da view, escreva uma query `SELECT` para retornar as linhas para o filme \"Mr. & Mrs. Smith\" ordenado pelo género em ordem alfabética.\n",
    "\n",
    "**Dica:** Olhe as [window functions](https://www.postgresql.org/docs/9.1/tutorial-window.html)"
   ],
   "metadata": {
    "collapsed": false
   }
  },
  {
   "cell_type": "code",
   "execution_count": null,
   "outputs": [],
   "source": [
    "%sql select * from info_type limit 3"
   ],
   "metadata": {
    "collapsed": false
   }
  },
  {
   "cell_type": "code",
   "execution_count": null,
   "outputs": [],
   "source": [
    "%%sql result_5a <<\n",
    "\n",
    "DROP VIEW IF EXISTS movie_avg_genre;\n",
    "CREATE VIEW movie_avg_genre AS (\n",
    "-- sua query sql aqui\n",
    ");"
   ],
   "metadata": {
    "collapsed": false
   }
  },
  {
   "cell_type": "code",
   "execution_count": null,
   "outputs": [],
   "source": [
    "Seguindo a definição da view, escreva uma query `SELECT` para retornar as linhas para o filme \"Mr. & Mrs. Smith\" ordenado pelo género em ordem alfabética."
   ],
   "metadata": {
    "collapsed": false
   }
  },
  {
   "cell_type": "code",
   "execution_count": null,
   "outputs": [],
   "source": [
    "%%sql\n",
    "-- sua query aqui"
   ],
   "metadata": {
    "collapsed": false
   }
  },
  {
   "cell_type": "markdown",
   "source": [
    "---\n",
    "\n",
    "## Questão 5b: Analisando o faturamento bruto\n",
    "\n",
    "Nós podemos olhar os dados usando um boxplot.\n",
    "Fizemos muito trabalho para transformar o faturamento bruto de strings no atributo `info` para um valor numérico. Graças ao nosso trabalho, nós podemos examinar os dados de maneira mais profunda e entender a sua distribuição. Para fazer isso, nós primeiro precisamos gerar um [five-number summary](https://en.wikipedia.org/wiki/Five-number_summary) e encontrar a média do faturamento grosso nos dados.\n",
    "\n",
    "- Criar uma view chamada `earnings_summary`, que consiste de uma linha com o resumo das informações da tabela `movie_gross`, com os valores `min`, `_25th_percentile`, `median`, `_75th_percentile`, `max` e `average`.\n",
    "- Usando a definição da view, escreva uma query `SELECT` para mostrar os resultados.\n",
    "\n",
    "**Dica:** Olhe as [aggregate functions](https://www.postgresql.org/docs/9.4/functions-aggregate.html).\n"
   ],
   "metadata": {
    "collapsed": false
   }
  },
  {
   "cell_type": "code",
   "execution_count": null,
   "outputs": [],
   "source": [
    "%%sql result_5b <<\n",
    "\n",
    "DROP VIEW IF EXISTS earnings_summary;\n",
    "CREATE VIEW earnings_summary AS (\n",
    "-- sua query aqui\n",
    ")"
   ],
   "metadata": {
    "collapsed": false
   }
  },
  {
   "cell_type": "markdown",
   "source": [
    "---\n",
    "\n",
    "## Questão 5c\n",
    "\n",
    "O que você nota nos valores gerados em `earnings_summary`? Pode optar por criar um boxplot ou outros gráficos que possam te ajudar na análise. Identifique as propriedads (pense relativamente em moda, skew, espalhamento, etc.).\n"
   ],
   "metadata": {
    "collapsed": false
   }
  },
  {
   "cell_type": "markdown",
   "source": [
    "_Escreva a sua resposta aqui_"
   ],
   "metadata": {
    "collapsed": false
   }
  },
  {
   "cell_type": "markdown",
   "source": [
    "# opcional: inclua seus plots aqui"
   ],
   "metadata": {
    "collapsed": false
   }
  },
  {
   "cell_type": "markdown",
   "source": [
    "<hr style=\"border: 1px solid #fdb515;\" />\n",
    "\n",
    "# Questão 6: Joins\n",
    "\n",
    "Joins são ferramentas poderosas na limpeza e análise de base de dados. Permitem que o utilizador crie tabelas úteis e juntem informações de uma maneira com significado.\n",
    "\n",
    "Há vários tipso de joins: inner, outer, left, right, etc. Vamos praticar estes joins neste cenário.\n",
    "\n",
    "Agora você vai trabalhar como um diretor de talento e precisa de uma lista de todas as pessoas que estiveram no papel de `actor` e o número de filmes em que cada um atuou.\n",
    "\n",
    "- Criar uma view chamada `number_movies`, com as colunas `id`, `name`, `number`, onde `id` é o id do ator, `name` é o nome do ator e `number` é o número de filmes que a pessoa atuou.\n",
    "- Seguindo a sua view, escreva uma query `SELECT` para mostrar os **10 top atores** que tiveram na maior parte dos filmes.\n",
    "\n",
    "**Note:** `cast_sample` pode incluir atores que não estão em `actor_sample`. O campo `name` pode ser NULL."
   ],
   "metadata": {
    "collapsed": false
   }
  },
  {
   "cell_type": "code",
   "execution_count": null,
   "outputs": [],
   "source": [
    "%%sql result_6 <<\n",
    "\n",
    "DROP VIEW IF EXISTS number_movies;\n",
    "CREATE VIEW number_movies AS (\n",
    "-- sua query aqui\n",
    ");"
   ],
   "metadata": {
    "collapsed": false
   }
  }
 ],
 "metadata": {
  "kernelspec": {
   "display_name": "Python 3",
   "language": "python",
   "name": "python3"
  },
  "language_info": {
   "codemirror_mode": {
    "name": "ipython",
    "version": 2
   },
   "file_extension": ".py",
   "mimetype": "text/x-python",
   "name": "python",
   "nbconvert_exporter": "python",
   "pygments_lexer": "ipython2",
   "version": "2.7.6"
  }
 },
 "nbformat": 4,
 "nbformat_minor": 0
}
